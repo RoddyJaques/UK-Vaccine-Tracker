{
 "cells": [
  {
   "cell_type": "code",
   "execution_count": 1,
   "metadata": {},
   "outputs": [],
   "source": [
    "import pandas as pd\n",
    "import numpy as np\n",
    "import matplotlib.pyplot as plt\n",
    "import matplotlib.dates as mdates\n",
    "import matplotlib.ticker as tick\n",
    "import seaborn as sns\n",
    "import datetime\n",
    "%matplotlib inline\n",
    "\n",
    "def get_data(url):\n",
    "    response = get(endpoint, timeout=10)\n",
    "    \n",
    "    if response.status_code >= 400:\n",
    "        raise RuntimeError(f'Request failed: { response.text }')\n",
    "        \n",
    "    return response.json()\n",
    "\n",
    "\n",
    "def today_anno(data):\n",
    "    \n",
    "    today = data[data[\"date_real\"]==data[\"date_real\"].max()]\n",
    "    \n",
    "    if today[\"date_real\"].iloc[0].weekday() in [0,1,2,3,6]:\n",
    "        return today, f'{int(today[\"vaxes\"].iloc[0]):,}' + \" vaccinations\"\n",
    "        \n",
    "    elif today[\"date_real\"].iloc[0].weekday() in [4,5]:\n",
    "        return today, f'{int(today[\"vaxes\"].iloc[0]):,}' + \" vaccinations\\n(excl Scotland and Wales)\"\n",
    "\n",
    "def y_fmt(tick_val,pos):\n",
    "    \"\"\" Function to format y axis ticks as e.g. 100,000 = 100k\n",
    "         \n",
    "         Args:\n",
    "            tick_val: Tick value\n",
    "            pos: position of tick\n",
    "\n",
    "         Returns:\n",
    "            String for tick value\n",
    "    \"\"\"\n",
    "    \n",
    "    if tick_val > 1000000:\n",
    "        val = int(tick_val/1000000)\n",
    "        return '{:d}M'.format(val)\n",
    "    \n",
    "    elif tick_val > 1000:\n",
    "        val = int(tick_val/1000)\n",
    "        return '{:d}k'.format(val) \n",
    "    \n",
    "    else: \n",
    "        return int(tick_val)"
   ]
  },
  {
   "cell_type": "code",
   "execution_count": 2,
   "metadata": {
    "scrolled": true
   },
   "outputs": [
    {
     "ename": "NameError",
     "evalue": "name 'get' is not defined",
     "output_type": "error",
     "traceback": [
      "\u001b[1;31m---------------------------------------------------------------------------\u001b[0m",
      "\u001b[1;31mNameError\u001b[0m                                 Traceback (most recent call last)",
      "\u001b[1;32m<ipython-input-2-ccd9716a743e>\u001b[0m in \u001b[0;36m<module>\u001b[1;34m\u001b[0m\n\u001b[0;32m      4\u001b[0m \u001b[1;34m'structure={\"date\":\"date\",\"newPeopleVaccinatedFirstDoseByPublishDate\":\"newPeopleVaccinatedFirstDoseByPublishDate\",\"newPeopleVaccinatedSecondDoseByPublishDate\":\"newPeopleVaccinatedSecondDoseByPublishDate\"}'\u001b[0m\u001b[1;33m\u001b[0m\u001b[1;33m\u001b[0m\u001b[0m\n\u001b[0;32m      5\u001b[0m )\n\u001b[1;32m----> 6\u001b[1;33m \u001b[0mdata\u001b[0m \u001b[1;33m=\u001b[0m \u001b[0mget_data\u001b[0m\u001b[1;33m(\u001b[0m\u001b[0mendpoint\u001b[0m\u001b[1;33m)\u001b[0m\u001b[1;33m\u001b[0m\u001b[1;33m\u001b[0m\u001b[0m\n\u001b[0m\u001b[0;32m      7\u001b[0m \u001b[0mdf\u001b[0m\u001b[1;33m=\u001b[0m\u001b[0mpd\u001b[0m\u001b[1;33m.\u001b[0m\u001b[0mjson_normalize\u001b[0m\u001b[1;33m(\u001b[0m\u001b[0mdata\u001b[0m\u001b[1;33m,\u001b[0m\u001b[1;34m\"data\"\u001b[0m\u001b[1;33m)\u001b[0m\u001b[1;33m\u001b[0m\u001b[1;33m\u001b[0m\u001b[0m\n\u001b[0;32m      8\u001b[0m \u001b[1;33m\u001b[0m\u001b[0m\n",
      "\u001b[1;32m<ipython-input-1-c1d5e7bb2f77>\u001b[0m in \u001b[0;36mget_data\u001b[1;34m(url)\u001b[0m\n\u001b[0;32m      9\u001b[0m \u001b[1;33m\u001b[0m\u001b[0m\n\u001b[0;32m     10\u001b[0m \u001b[1;32mdef\u001b[0m \u001b[0mget_data\u001b[0m\u001b[1;33m(\u001b[0m\u001b[0murl\u001b[0m\u001b[1;33m)\u001b[0m\u001b[1;33m:\u001b[0m\u001b[1;33m\u001b[0m\u001b[1;33m\u001b[0m\u001b[0m\n\u001b[1;32m---> 11\u001b[1;33m     \u001b[0mresponse\u001b[0m \u001b[1;33m=\u001b[0m \u001b[0mget\u001b[0m\u001b[1;33m(\u001b[0m\u001b[0mendpoint\u001b[0m\u001b[1;33m,\u001b[0m \u001b[0mtimeout\u001b[0m\u001b[1;33m=\u001b[0m\u001b[1;36m10\u001b[0m\u001b[1;33m)\u001b[0m\u001b[1;33m\u001b[0m\u001b[1;33m\u001b[0m\u001b[0m\n\u001b[0m\u001b[0;32m     12\u001b[0m \u001b[1;33m\u001b[0m\u001b[0m\n\u001b[0;32m     13\u001b[0m     \u001b[1;32mif\u001b[0m \u001b[0mresponse\u001b[0m\u001b[1;33m.\u001b[0m\u001b[0mstatus_code\u001b[0m \u001b[1;33m>=\u001b[0m \u001b[1;36m400\u001b[0m\u001b[1;33m:\u001b[0m\u001b[1;33m\u001b[0m\u001b[1;33m\u001b[0m\u001b[0m\n",
      "\u001b[1;31mNameError\u001b[0m: name 'get' is not defined"
     ]
    }
   ],
   "source": [
    "endpoint = (\n",
    "'https://api.coronavirus.data.gov.uk/v1/data?'\n",
    "'filters=areaType=overview&'\n",
    "'structure={\"date\":\"date\",\"newPeopleVaccinatedFirstDoseByPublishDate\":\"newPeopleVaccinatedFirstDoseByPublishDate\",\"newPeopleVaccinatedSecondDoseByPublishDate\":\"newPeopleVaccinatedSecondDoseByPublishDate\"}'\n",
    ")\n",
    "data = get_data(endpoint)\n",
    "df=pd.json_normalize(data,\"data\")\n",
    "\n",
    "#Change date from index to datetime variable and sum 1st and 2nd doses for overall doses per day \n",
    "by_date = df.groupby(\"date\").sum().reset_index()\n",
    "by_date[\"date_real\"] = pd.to_datetime(by_date[\"date\"])\n",
    "by_date[\"vaxes\"] = by_date[\"newPeopleVaccinatedFirstDoseByPublishDate\"] + by_date[\"newPeopleVaccinatedSecondDoseByPublishDate\"]\n",
    "\n",
    "#calculate 7 day rolling average\n",
    "by_date[\"7day_avg\"] = by_date[\"vaxes\"].rolling(7).mean()\n",
    "by_date[\"7day_index\"] = by_date.index - 1\n",
    "\n",
    "#calculate number over past 7 days\n",
    "past_7days = by_date[\"vaxes\"].iloc[-7:].sum()\n",
    "\n",
    "#Get latest day only\n",
    "today = by_date[by_date[\"date_real\"]==by_date[\"date_real\"].max()]\n"
   ]
  },
  {
   "cell_type": "code",
   "execution_count": null,
   "metadata": {},
   "outputs": [],
   "source": [
    "#Create numpy array of all dates from 11/01/21 to 07/02/21\n",
    "start_date = datetime.date(2021, 1 , 11)\n",
    "end_date = datetime.date(2021, 2 , 7)\n",
    "end_datetime = datetime.datetime(2021, 2 , 7,0,0,0) #Keep a datetime of the end date so annoations can be plotted precisely \n",
    "number_of_days = (end_date - start_date).days + 1\n",
    "date_list = np.asarray([(start_date + datetime.timedelta(days = day)) for day in range(number_of_days)])\n",
    "x_labels = np.asarray([(start_date + datetime.timedelta(days = day)).strftime('%d/%m') for day in range(number_of_days)])\n",
    "\n",
    "\n",
    "#Number of vaccinations per day needed for 2m/weeek, 3m/week and 4m/week\n",
    "target_2mpd = float(2000000/7)\n",
    "target_3mpd = float(3000000/7)\n",
    "target_4mpd = float(4000000/7)\n",
    "target_2m = np.asarray([target_2mpd for day in range(number_of_days)])\n",
    "target_3m = np.asarray([target_3mpd for day in range(number_of_days)])\n",
    "target_4m = np.asarray([target_4mpd for day in range(number_of_days)])"
   ]
  },
  {
   "cell_type": "code",
   "execution_count": null,
   "metadata": {
    "scrolled": false
   },
   "outputs": [],
   "source": [
    "#Plot vaccinations per day and reference lines for 2m, 3m and 4m vaccinations per week \n",
    "fig, ax = plt.subplots(1,1,figsize=[20,11.25],facecolor=\"white\")\n",
    "ax.set_facecolor(\"white\")\n",
    "\n",
    "ax.plot(date_list, target_2m,label='_nolegend_',lw=3)\n",
    "ax.text(end_datetime-datetime.timedelta(days = 3.5),target_2mpd-18000,\"2million/week\", fontdict={'size':20, 'color':'darkgrey'})\n",
    "\n",
    "ax.plot(date_list, target_3m,label='_nolegend_',lw=3)\n",
    "ax.text(end_datetime-datetime.timedelta(days = 3.5),target_3mpd-18000,\"3million/week\", fontdict={'size':20, 'color':'darkgrey'})\n",
    "\n",
    "ax.plot(date_list, target_4m, c='purple',label='_nolegend_',lw=3)\n",
    "ax.text(end_datetime-datetime.timedelta(days = 3.5),target_4mpd-18000,\"4million/week\", fontdict={'size':20, 'color':'darkgrey'})\n",
    "\n",
    "ax.plot(by_date[\"date_real\"],by_date[\"vaxes\"],c=\"r\", lw=5,label='_nolegend_')\n",
    "ax.plot(today[\"date_real\"],today[\"vaxes\"],\"ro\", ms=12,label='_nolegend_')\n",
    "ax.text(today[\"date_real\"]+datetime.timedelta(days = 0.3),today[\"vaxes\"],f'{int(today[\"vaxes\"].iloc[0]):,}' + \" vaccinations\", fontdict={'size':23})\n",
    "\n",
    "ax.plot(by_date[\"date_real\"],by_date[\"7day_avg\"],c=\"springgreen\",lw=5, marker='X',ms=12)\n",
    "\n",
    "ax.xaxis.set_major_formatter(mdates.DateFormatter('%d/%m'))\n",
    "ax.set_xlim(start_date, end_date)\n",
    "ax.set_xticks(date_list)\n",
    "ax.set_xticklabels(x_labels)\n",
    "\n",
    "ax.set_ylim([0,600000])\n",
    "ax.yaxis.set_major_formatter(tick.FuncFormatter(y_fmt))\n",
    "\n",
    "ax.tick_params(axis='y',labelsize=15)\n",
    "ax.tick_params(axis='x',labelsize=13)\n",
    "\n",
    "ax.legend([\"7 day average\"],loc='lower right',fontsize=20,frameon=False)\n",
    "\n",
    "plt.title(\"Roddy's COVID-19 vaccine tracker\",\n",
    "        fontsize=30, color='g' )\n",
    "plt.xlabel('Date',fontsize=20)\n",
    "plt.ylabel('Reported daily vaccinations',fontsize=25)\n",
    "\n",
    "sns.despine(top=True, right=True)\n"
   ]
  },
  {
   "cell_type": "code",
   "execution_count": 16,
   "metadata": {},
   "outputs": [
    {
     "name": "stdout",
     "output_type": "stream",
     "text": [
      "13th February 2021\n"
     ]
    }
   ],
   "source": [
    "def project_tl(rate, target, current):\n",
    "    \"\"\" Function to format y axis ticks as e.g. 100,000 = 100k\n",
    "         \n",
    "         Args:\n",
    "            rate: number of vaccinations per day\n",
    "            target: target total number of vaccinations\n",
    "            current: current total number of vaccinations\n",
    "\n",
    "         Returns:\n",
    "            date_text: string of date the target will be reached\n",
    "    \"\"\" \n",
    "\n",
    "    days_to_target = (target-current)/rate\n",
    "    date_target = datetime.datetime.today() + datetime.timedelta(days = days_to_target)\n",
    "\n",
    "    def suffix(d):\n",
    "        return \"th\" if 11<=d<=13 else {1:\"st\",2:\"nd\",3:\"rd\"}.get(d%10, \"th\")\n",
    "\n",
    "    def custom_strftime(format, t):\n",
    "        return t.strftime(format).replace(\"{S}\", str(t.day) + suffix(t.day))\n",
    "\n",
    "    date_text = custom_strftime(\"{S} %B %Y\", date_target)\n",
    "    return date_text\n",
    "\n",
    "print(project_tl(500000,15000000,5000000))"
   ]
  },
  {
   "cell_type": "code",
   "execution_count": null,
   "metadata": {},
   "outputs": [],
   "source": []
  },
  {
   "cell_type": "code",
   "execution_count": null,
   "metadata": {},
   "outputs": [],
   "source": []
  }
 ],
 "metadata": {
  "kernelspec": {
   "display_name": "Python 3",
   "language": "python",
   "name": "python3"
  },
  "language_info": {
   "codemirror_mode": {
    "name": "ipython",
    "version": 3
   },
   "file_extension": ".py",
   "mimetype": "text/x-python",
   "name": "python",
   "nbconvert_exporter": "python",
   "pygments_lexer": "ipython3",
   "version": "3.7.3"
  }
 },
 "nbformat": 4,
 "nbformat_minor": 2
}
